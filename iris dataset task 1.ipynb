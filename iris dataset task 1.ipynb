{
 "cells": [
  {
   "cell_type": "code",
   "execution_count": 10,
   "id": "8413c984",
   "metadata": {},
   "outputs": [],
   "source": [
    "import numpy as np\n",
    "from sklearn.datasets import load_iris\n",
    "import unittest\n",
    "from test import support"
   ]
  },
  {
   "cell_type": "code",
   "execution_count": 2,
   "id": "7a79977d",
   "metadata": {},
   "outputs": [],
   "source": [
    "#Load the iris datset\n",
    "data = load_iris()\n",
    "X = data.data\n",
    "y = data.target"
   ]
  },
  {
   "cell_type": "code",
   "execution_count": 3,
   "id": "cd95ef9b",
   "metadata": {},
   "outputs": [],
   "source": [
    "#Define the sigmoid function\n",
    "def sigmoid(z):\n",
    "    return 1/ (1 + np.exp(-z))"
   ]
  },
  {
   "cell_type": "code",
   "execution_count": 4,
   "id": "4800105f",
   "metadata": {},
   "outputs": [],
   "source": [
    "#Define the logistic regression training function\n",
    "def train_logistic_regression(X , y, learning_rate, num_epochs):\n",
    "    num_samples, num_features = X.shape\n",
    "    num_classes = len(np.unique(y))"
   ]
  },
  {
   "cell_type": "code",
   "execution_count": 4,
   "id": "4fe2c19e",
   "metadata": {},
   "outputs": [
    {
     "name": "stdout",
     "output_type": "stream",
     "text": [
      "Accuracy: 0.9666666666666667\n"
     ]
    }
   ],
   "source": [
    "import numpy as np\n",
    "from sklearn.datasets import load_iris\n",
    "# Load the Iris dataset\n",
    "data = load_iris()\n",
    "X = data.data\n",
    "y = data.target\n",
    "# Define the sigmoid function\n",
    "def sigmoid(z):\n",
    "    return 1 / (1 + np.exp(-z))\n",
    "# Define the logistic regression training function\n",
    "def train_logistic_regression(X, y, learning_rate, num_epochs):\n",
    "    num_samples, num_features = X.shape\n",
    "    num_classes = len(np.unique(y))\n",
    "    # Initialize weights and biases\n",
    "    weights = np.zeros((num_classes, num_features))\n",
    "    biases = np.zeros((num_classes,))  # Updated here\n",
    "    # One-hot encode the target values\n",
    "    y_one_hot = np.zeros((num_samples, num_classes))\n",
    "    for i in range(num_samples):\n",
    "        y_one_hot[i, y[i]] = 1\n",
    "    # Gradient descent\n",
    "    for epoch in range(num_epochs):\n",
    "        # Forward pass\n",
    "        logits = np.dot(X, weights.T) + biases  # Updated here\n",
    "        predictions = sigmoid(logits)\n",
    "        # Backpropagation\n",
    "        gradient_weights = np.dot((predictions - y_one_hot).T, X) / num_samples\n",
    "        gradient_biases = np.sum(predictions - y_one_hot, axis=0) / num_samples  # Updated here\n",
    "        # Update weights and biases\n",
    "        weights -= learning_rate * gradient_weights\n",
    "        biases -= learning_rate * gradient_biases\n",
    "    return weights, biases\n",
    "# Train the logistic regression model\n",
    "learning_rate = 0.1\n",
    "num_epochs = 1000\n",
    "weights, biases = train_logistic_regression(X, y, learning_rate, num_epochs)\n",
    "# Make predictions\n",
    "logits = np.dot(X, weights.T) + biases\n",
    "predictions = np.argmax(logits, axis=1)\n",
    "# Calculate accuracy\n",
    "accuracy = np.mean(predictions == y)\n",
    "print(\"Accuracy:\", accuracy)"
   ]
  },
  {
   "cell_type": "code",
   "execution_count": 3,
   "id": "0919bf36",
   "metadata": {},
   "outputs": [
    {
     "name": "stdout",
     "output_type": "stream",
     "text": [
      "Accuracy: 0.9666666666666667\n"
     ]
    }
   ],
   "source": [
    "# Train the logistic regression model\n",
    "learning_rate = 0.1\n",
    "num_epochs = 1000\n",
    "weights, biases = train_logistic_regression(X, y, learning_rate, num_epochs)\n",
    "# Make predictions\n",
    "logits = np.dot(X, weights.T) + biases\n",
    "predictions = np.argmax(logits, axis=1)\n",
    "# Calculate accuracy\n",
    "accuracy = np.mean(predictions == y)\n",
    "print(\"Accuracy:\", accuracy)"
   ]
  },
  {
   "cell_type": "code",
   "execution_count": null,
   "id": "a6eb5e0d",
   "metadata": {},
   "outputs": [],
   "source": []
  }
 ],
 "metadata": {
  "kernelspec": {
   "display_name": "Python 3 (ipykernel)",
   "language": "python",
   "name": "python3"
  },
  "language_info": {
   "codemirror_mode": {
    "name": "ipython",
    "version": 3
   },
   "file_extension": ".py",
   "mimetype": "text/x-python",
   "name": "python",
   "nbconvert_exporter": "python",
   "pygments_lexer": "ipython3",
   "version": "3.11.3"
  }
 },
 "nbformat": 4,
 "nbformat_minor": 5
}
